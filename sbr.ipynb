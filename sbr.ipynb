{
    "cells": [
        {
            "cell_type": "code",
            "execution_count": 1,
            "metadata": {},
            "outputs": [
                {
                    "name": "stdout",
                    "output_type": "stream",
                    "text": "Waiting for a Spark session to start...\nSpark Initialization Done! ApplicationId = app-20200625134326-0000\nKERNEL_ID = ad70a2d7-0c42-40bc-8224-63e8c5e14a7d\n"
                },
                {
                    "data": {
                        "text/plain": "[Row(age='63', sex='1', cp='3', trestbps='145', chol='233', fbs='1', restecg='0', thalach='150', exang='0', oldpeak='2.3', slope='0', ca='0', thal='1', target='1'),\n Row(age='37', sex='1', cp='2', trestbps='130', chol='250', fbs='0', restecg='1', thalach='187', exang='0', oldpeak='3.5', slope='0', ca='0', thal='2', target='1'),\n Row(age='41', sex='0', cp='1', trestbps='130', chol='204', fbs='0', restecg='0', thalach='172', exang='0', oldpeak='1.4', slope='2', ca='0', thal='2', target='1'),\n Row(age='56', sex='1', cp='1', trestbps='120', chol='236', fbs='0', restecg='1', thalach='178', exang='0', oldpeak='0.8', slope='2', ca='0', thal='2', target='1'),\n Row(age='57', sex='0', cp='0', trestbps='120', chol='354', fbs='0', restecg='1', thalach='163', exang='1', oldpeak='0.6', slope='2', ca='0', thal='2', target='1')]"
                    },
                    "execution_count": 1,
                    "metadata": {},
                    "output_type": "execute_result"
                }
            ],
            "source": "# The code was removed by Watson Studio for sharing."
        }
    ],
    "metadata": {
        "kernelspec": {
            "display_name": "Python 3.6 with Spark",
            "language": "python3",
            "name": "python36"
        },
        "language_info": {
            "codemirror_mode": {
                "name": "ipython",
                "version": 3
            },
            "file_extension": ".py",
            "mimetype": "text/x-python",
            "name": "python",
            "nbconvert_exporter": "python",
            "pygments_lexer": "ipython3",
            "version": "3.6.8"
        }
    },
    "nbformat": 4,
    "nbformat_minor": 1
}